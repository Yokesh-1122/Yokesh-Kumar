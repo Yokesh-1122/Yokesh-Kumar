{
 "cells": [
  {
   "cell_type": "code",
   "execution_count": 1,
   "id": "97cb7173-650f-40c5-81be-18e69d9fe8c1",
   "metadata": {},
   "outputs": [
    {
     "name": "stdout",
     "output_type": "stream",
     "text": [
      "one dimensional array: [1 2 3]\n"
     ]
    }
   ],
   "source": [
    "import numpy as np\n",
    "a=np.array((1,2,3))\n",
    "print(\"one dimensional array:\",a)"
   ]
  },
  {
   "cell_type": "code",
   "execution_count": 2,
   "id": "f749c655-d62e-468a-9595-72cc89f785a9",
   "metadata": {},
   "outputs": [
    {
     "name": "stdout",
     "output_type": "stream",
     "text": [
      "two dimensional array [[10 20 30]\n",
      " [40 50 60]]\n"
     ]
    }
   ],
   "source": [
    "import numpy as np\n",
    "a=np.array([[10,20,30],[40,50,60]])\n",
    "print(\"two dimensional array\",a)"
   ]
  },
  {
   "cell_type": "code",
   "execution_count": 4,
   "id": "eb0cf961-717c-4b5a-8acf-833b742ad28d",
   "metadata": {},
   "outputs": [
    {
     "name": "stdout",
     "output_type": "stream",
     "text": [
      "Three dimensional array [[1 2 3]\n",
      " [4 5 6]\n",
      " [7 8 9]]\n"
     ]
    }
   ],
   "source": [
    "import numpy as np\n",
    "b=np.array([[1,2,3],[4,5,6],[7,8,9]])\n",
    "print(\"Three dimensional array\",b)"
   ]
  },
  {
   "cell_type": "code",
   "execution_count": 5,
   "id": "ee2be2c8-2a79-4b9b-9900-4513991f6de5",
   "metadata": {},
   "outputs": [
    {
     "name": "stdout",
     "output_type": "stream",
     "text": [
      "\n",
      " Array with all zeros\n",
      " [[0. 0. 0. 0. 0.]\n",
      " [0. 0. 0. 0. 0.]\n",
      " [0. 0. 0. 0. 0.]]\n"
     ]
    }
   ],
   "source": [
    "import numpy as np\n",
    "c=np.zeros((3,5))\n",
    "print(\"\\n Array with all zeros\\n\",c)"
   ]
  },
  {
   "cell_type": "code",
   "execution_count": 6,
   "id": "6a145c7a-eaa4-4bd3-87a8-b3a9a05f7270",
   "metadata": {},
   "outputs": [
    {
     "name": "stdout",
     "output_type": "stream",
     "text": [
      "\n",
      "Random value \n",
      " [[0.64838003 0.19705184]\n",
      " [0.88851519 0.65343068]\n",
      " [0.44339262 0.30563356]]\n"
     ]
    }
   ],
   "source": [
    "import numpy as np\n",
    "d=np.random.random((3,2))\n",
    "print(\"\\nRandom value \\n\",d)"
   ]
  },
  {
   "cell_type": "code",
   "execution_count": 7,
   "id": "6b468f37-f55e-44d4-8498-831848ed7ae7",
   "metadata": {},
   "outputs": [
    {
     "name": "stdout",
     "output_type": "stream",
     "text": [
      "\n",
      " Sequence array \n",
      " [20 25 30 35 40 45]\n"
     ]
    }
   ],
   "source": [
    "import numpy as np\n",
    "e=np.arange(20,50,5)\n",
    "print(\"\\n Sequence array \\n\",e)"
   ]
  },
  {
   "cell_type": "code",
   "execution_count": 10,
   "id": "0f26edb9-9747-4c0b-abb5-03b2335edc63",
   "metadata": {},
   "outputs": [
    {
     "name": "stdout",
     "output_type": "stream",
     "text": [
      "\n",
      " old array:\n",
      " [[ 1  2  3  4]\n",
      " [ 5  6  7  8]\n",
      " [ 9 10 11 12]]\n",
      "\n",
      " reshaped array:\n",
      " [[ 1  2  3]\n",
      " [ 4  5  6]\n",
      " [ 7  8  9]\n",
      " [10 11 12]]\n"
     ]
    }
   ],
   "source": [
    "import numpy as np\n",
    "a=np.array(((1,2,3,4),(5,6,7,8),(9,10,11,12)))\n",
    "b=a.reshape(4,3)\n",
    "print(\"\\n old array:\\n\",a)\n",
    "print(\"\\n reshaped array:\\n\",b)"
   ]
  },
  {
   "cell_type": "code",
   "execution_count": 20,
   "id": "4db3400d-09cc-41ab-a289-818e4e55c8df",
   "metadata": {},
   "outputs": [
    {
     "name": "stdout",
     "output_type": "stream",
     "text": [
      "Original array:\n",
      " [[ 1  2  3  4]\n",
      " [ 5  6  7  8]\n",
      " [ 9 10 11 12]]\n",
      "\n",
      " flatten array:\n",
      " [ 1  2  3  4  5  6  7  8  9 10 11 12]\n"
     ]
    }
   ],
   "source": [
    "import numpy as np\n",
    "arr=np.array([[1,2,3,4],[5,6,7,8],[9,10,11,12]])\n",
    "flat=arr.flatten()\n",
    "print(\"Original array:\\n\",arr)\n",
    "print(\"\\n flatten array:\\n\",flat)\n"
   ]
  },
  {
   "cell_type": "code",
   "execution_count": null,
   "id": "80c6c475-95fc-40c5-8866-f71d3455360b",
   "metadata": {},
   "outputs": [],
   "source": []
  },
  {
   "cell_type": "code",
   "execution_count": 7,
   "id": "93130c95-ddec-417b-8bda-df6c7fe448c7",
   "metadata": {},
   "outputs": [
    {
     "name": "stdout",
     "output_type": "stream",
     "text": [
      "Original array:\n",
      " [[ 1  2  3  4]\n",
      " [ 5  6  7  8]\n",
      " [ 9 10 11 12]]\n",
      "\n",
      " flatten array:\n",
      " [ 1  2  3  4  5  6  7  8  9 10 11 12]\n",
      "\n",
      "No of dimensions: 2\n"
     ]
    }
   ],
   "source": [
    "import numpy as np\n",
    "arr=np.array([[1,2,3,4],[5,6,7,8],[9,10,11,12]])\n",
    "flat=arr.flatten()\n",
    "print(\"Original array:\\n\",arr)\n",
    "print(\"\\n flatten array:\\n\",flat)\n",
    "print(\"\\nNo of dimensions:\",arr.ndim)"
   ]
  },
  {
   "cell_type": "code",
   "execution_count": null,
   "id": "ca310790-01e0-4b6c-a9e0-08d7620cb95b",
   "metadata": {},
   "outputs": [],
   "source": []
  },
  {
   "cell_type": "code",
   "execution_count": 25,
   "id": "5fd37761-259e-457c-843e-944be26c7800",
   "metadata": {},
   "outputs": [
    {
     "name": "stdout",
     "output_type": "stream",
     "text": [
      "\n",
      " array: [[[ 1  2  3]\n",
      "  [ 4  5  6]]\n",
      "\n",
      " [[ 7  8  9]\n",
      "  [10 11 12]]]\n",
      "\n",
      " dimension: 3\n"
     ]
    }
   ],
   "source": [
    "import numpy as np\n",
    "arr=np.array([[[1,2,3],[4,5,6]],[[7,8,9],[10,11,12]]])\n",
    "print(\"\\n array:\",arr)\n",
    "print(\"\\n dimension:\",arr.ndim)"
   ]
  },
  {
   "cell_type": "code",
   "execution_count": null,
   "id": "0db22bea-da0f-4983-b1de-2c5760cf3810",
   "metadata": {},
   "outputs": [],
   "source": []
  },
  {
   "cell_type": "code",
   "execution_count": null,
   "id": "9ffe010f-8699-4dcc-b94b-b71dc9a5dda3",
   "metadata": {},
   "outputs": [],
   "source": []
  },
  {
   "cell_type": "code",
   "execution_count": 19,
   "id": "703ea076-3030-4142-bbf6-5c3ab06974ee",
   "metadata": {},
   "outputs": [
    {
     "name": "stdout",
     "output_type": "stream",
     "text": [
      "Original array:\n",
      " [[ 1  2  3  4]\n",
      " [ 5  6  7  8]\n",
      " [ 9 10 11 12]]\n",
      "\n",
      " flatten array:\n",
      " [ 1  2  3  4  5  6  7  8  9 10 11 12]\n",
      "\n",
      "No of dimensions: 2\n"
     ]
    }
   ],
   "source": []
  },
  {
   "cell_type": "code",
   "execution_count": 28,
   "id": "213f5d61-f3e4-4914-a2c4-88b383e1669b",
   "metadata": {},
   "outputs": [
    {
     "name": "stdout",
     "output_type": "stream",
     "text": [
      "\n",
      "No of dimensions: 2\n",
      "shape of array:\n",
      " (3, 4)\n"
     ]
    }
   ],
   "source": [
    "import numpy as np\n",
    "arr=np.array([[1,2,3,4],[5,6,7,8],[9,10,11,12]])\n",
    "flat=arr.flatten()\n",
    "print(\"\\nNo of dimensions:\",arr.ndim)\n",
    "print(\"Shape of array:\\n\",arr.shape)"
   ]
  },
  {
   "cell_type": "code",
   "execution_count": 32,
   "id": "7861cdf6-9756-4118-a08a-f1f91810d1ba",
   "metadata": {},
   "outputs": [
    {
     "name": "stdout",
     "output_type": "stream",
     "text": [
      "Length of array: 3\n",
      "Type of array: <U1\n",
      "Length of arrat: 3\n"
     ]
    }
   ],
   "source": [
    "import numpy as np\n",
    "arr=np.array(['a','b','c'])\n",
    "a=np.array([1,2,3])\n",
    "\n",
    "print(\"Length of array:\",len(a))\n",
    "print(\"Type of array:\",arr.dtype)\n",
    "print(\"Length of arrat:\",len(arr))\n",
    "\n",
    "\n"
   ]
  },
  {
   "cell_type": "code",
   "execution_count": 6,
   "id": "87bf01ea-6df3-4287-a9ee-cfcaf1a2f36d",
   "metadata": {},
   "outputs": [
    {
     "name": "stdout",
     "output_type": "stream",
     "text": [
      "[1. 2. 3.]\n",
      "float64\n"
     ]
    }
   ],
   "source": [
    "import numpy as np\n",
    "a=[1,2,3]\n",
    "a=np.array(a)\n",
    "newtype=a.astype('float64')\n",
    "print(newtype)\n",
    "print(newtype.dtype)"
   ]
  },
  {
   "cell_type": "code",
   "execution_count": 8,
   "id": "96bfcd9f-f46f-4b5c-8d99-f2bb81120f74",
   "metadata": {},
   "outputs": [
    {
     "name": "stdout",
     "output_type": "stream",
     "text": [
      "[3 4 5 6]\n"
     ]
    }
   ],
   "source": [
    "import numpy as np\n",
    "arr=np.array([1,2,3,4,5,6,7,8,9])\n",
    "slice1=arr[2:6]\n",
    "print(slice1)"
   ]
  },
  {
   "cell_type": "code",
   "execution_count": null,
   "id": "992a3f98-7590-4f32-a5d6-d433149f876f",
   "metadata": {},
   "outputs": [],
   "source": []
  }
 ],
 "metadata": {
  "kernelspec": {
   "display_name": "Python 3 (ipykernel)",
   "language": "python",
   "name": "python3"
  },
  "language_info": {
   "codemirror_mode": {
    "name": "ipython",
    "version": 3
   },
   "file_extension": ".py",
   "mimetype": "text/x-python",
   "name": "python",
   "nbconvert_exporter": "python",
   "pygments_lexer": "ipython3",
   "version": "3.12.7"
  }
 },
 "nbformat": 4,
 "nbformat_minor": 5
}
