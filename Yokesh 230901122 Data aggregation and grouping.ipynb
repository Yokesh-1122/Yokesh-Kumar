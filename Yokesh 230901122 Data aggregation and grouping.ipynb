{
 "cells": [
  {
   "cell_type": "code",
   "execution_count": 7,
   "id": "11712015",
   "metadata": {},
   "outputs": [
    {
     "name": "stdout",
     "output_type": "stream",
     "text": [
      "\n",
      " Original DataFrame:\n",
      "       Name Category  Value  Score\n",
      "0    Alice        A      3     65\n",
      "1      Bob        B      2     84\n",
      "2  Charlie        C      1     82\n",
      "3    Alice        A      4     93\n",
      "4      Bob        B      2     67\n",
      "5  Charlie        C      3     72\n",
      "\n",
      " Group by name and Aggregation with one column sum:\n",
      "       Name  Value\n",
      "0    Alice      7\n",
      "1      Bob      4\n",
      "2  Charlie      4\n"
     ]
    }
   ],
   "source": [
    "import numpy as np\n",
    "import pandas as pd\n",
    "df=pd.DataFrame({'Name':['Alice','Bob','Charlie','Alice','Bob','Charlie'],\n",
    "                'Category':['A','B','C','A','B','C'],\n",
    "                'Value':np.random.randint(1,5,size=6),\n",
    "                'Score':np.random.randint(60,100,size=6)})\n",
    "print(\"\\n Original DataFrame:\\n\",df)\n",
    "#Data grouping and aggregation with one column sum\n",
    "df1=df.groupby(('Name'),as_index=False)['Value'].sum()\n",
    "print(\"\\n Group by name and Aggregation with one column sum:\\n\",df1)\n"
   ]
  },
  {
   "cell_type": "code",
   "execution_count": 6,
   "id": "d7bdd243",
   "metadata": {},
   "outputs": [
    {
     "name": "stdout",
     "output_type": "stream",
     "text": [
      "\n",
      "Group by name and Aggregation with two column:\n",
      "       Name  Value  Score\n",
      "0    Alice      3    189\n",
      "1      Bob      6    153\n",
      "2  Charlie      7    154\n"
     ]
    }
   ],
   "source": [
    "#Data grouping and Aggregation: with two column sum\n",
    "df2=df.groupby(('Name'),as_index=False)[['Value','Score']].sum()\n",
    "print(\"\\nGroup by name and Aggregation with two column:\\n\",df2)"
   ]
  },
  {
   "cell_type": "code",
   "execution_count": 9,
   "id": "d08b9dc5",
   "metadata": {},
   "outputs": [
    {
     "name": "stdout",
     "output_type": "stream",
     "text": [
      "\n",
      "Group by name and Aggregation with one column using agg function:\n",
      "       Name  Value\n",
      "0    Alice      7\n",
      "1      Bob      4\n",
      "2  Charlie      4\n"
     ]
    }
   ],
   "source": [
    "#Data grouping and Aggregation: with one column sum\n",
    "df3=df.groupby(('Name'),as_index=False)['Value'].agg('sum')\n",
    "print(\"\\nGroup by name and Aggregation with one column using agg function:\\n\",df3)"
   ]
  },
  {
   "cell_type": "code",
   "execution_count": 11,
   "id": "3ed7f083",
   "metadata": {},
   "outputs": [
    {
     "name": "stdout",
     "output_type": "stream",
     "text": [
      "\n",
      "Group by name and multiple Aggregation functions :\n",
      "         Value              Score      \n",
      "          sum mean min max   sum  mean\n",
      "Name                                  \n",
      "Alice       7  3.5   3   4   158  79.0\n",
      "Bob         4  2.0   2   2   151  75.5\n",
      "Charlie     4  2.0   1   3   154  77.0\n"
     ]
    }
   ],
   "source": [
    " #Group by 'Name' and calculate multiple aggregations\n",
    "df4 = df.groupby('Name').agg({\n",
    "'Value': ['sum', 'mean', 'min', 'max'],\n",
    "'Score': ['sum', 'mean']})\n",
    "\n",
    "print(\"\\nGroup by name and multiple Aggregation functions :\\n\", df4)"
   ]
  },
  {
   "cell_type": "code",
   "execution_count": 13,
   "id": "d80641f1",
   "metadata": {},
   "outputs": [
    {
     "name": "stdout",
     "output_type": "stream",
     "text": [
      "\n",
      " Group and count:\n",
      "       Name  Value\n",
      "0    Alice      2\n",
      "1      Bob      2\n",
      "2  Charlie      2\n",
      "\n",
      " Group and count:\n",
      "          Category  Value  Score\n",
      "Name                           \n",
      "Alice           2      2      2\n",
      "Bob             2      2      2\n",
      "Charlie         2      2      2\n"
     ]
    }
   ],
   "source": [
    "df5=df.groupby(('Name'),as_index=False)['Value'].count()\n",
    "print(\"\\n Group and count:\\n\",df5)\n",
    "df6=df.groupby(('Name')).count()\n",
    "print(\"\\n Group and count:\\n\",df6)"
   ]
  },
  {
   "cell_type": "code",
   "execution_count": 14,
   "id": "dbc71407",
   "metadata": {},
   "outputs": [
    {
     "name": "stdout",
     "output_type": "stream",
     "text": [
      "\n",
      " Group and display from first:\n",
      "       Name  Value\n",
      "0    Alice      3\n",
      "1      Bob      2\n",
      "2  Charlie      1\n",
      "\n",
      " Group and display from first:\n",
      "         Category  Value  Score\n",
      "Name                          \n",
      "Alice          A      3     65\n",
      "Bob            B      2     84\n",
      "Charlie        C      1     82\n"
     ]
    }
   ],
   "source": [
    "df7=df.groupby(('Name'),as_index=False)['Value'].first()\n",
    "print(\"\\n Group and display from first:\\n\",df7)\n",
    "df8=df.groupby(('Name')).first()\n",
    "print(\"\\n Group and display from first:\\n\",df8)"
   ]
  },
  {
   "cell_type": "code",
   "execution_count": 17,
   "id": "0382fc4f",
   "metadata": {},
   "outputs": [
    {
     "name": "stdout",
     "output_type": "stream",
     "text": [
      "\n",
      " Group and display from last:\n",
      "       Name  Value\n",
      "0    Alice      4\n",
      "1      Bob      2\n",
      "2  Charlie      3\n",
      "\n",
      " Group and display from last:\n",
      "         Category  Value  Score\n",
      "Name                          \n",
      "Alice          A      4     93\n",
      "Bob            B      2     67\n",
      "Charlie        C      3     72\n"
     ]
    }
   ],
   "source": [
    "df9=df.groupby(('Name'),as_index=False)['Value'].last()\n",
    "print(\"\\n Group and display from last:\\n\",df9)\n",
    "df10=df.groupby(('Name')).last()\n",
    "print(\"\\n Group and display from last:\\n\",df10)"
   ]
  },
  {
   "cell_type": "code",
   "execution_count": 18,
   "id": "1ea7ba06",
   "metadata": {},
   "outputs": [
    {
     "name": "stdout",
     "output_type": "stream",
     "text": [
      "\n",
      " Group and display from size:\n",
      "       Name  size\n",
      "0    Alice     2\n",
      "1      Bob     2\n",
      "2  Charlie     2\n",
      "\n",
      " Group and display from size:\n",
      " Name\n",
      "Alice      2\n",
      "Bob        2\n",
      "Charlie    2\n",
      "dtype: int64\n"
     ]
    }
   ],
   "source": [
    "df11=df.groupby(('Name'),as_index=False)['Value'].size()\n",
    "print(\"\\n Group and display from size:\\n\",df11)\n",
    "df12=df.groupby(('Name')).size()\n",
    "print(\"\\n Group and display from size:\\n\",df12)"
   ]
  },
  {
   "cell_type": "code",
   "execution_count": null,
   "id": "a0c1d35f",
   "metadata": {},
   "outputs": [],
   "source": []
  }
 ],
 "metadata": {
  "kernelspec": {
   "display_name": "Python 3 (ipykernel)",
   "language": "python",
   "name": "python3"
  },
  "language_info": {
   "codemirror_mode": {
    "name": "ipython",
    "version": 3
   },
   "file_extension": ".py",
   "mimetype": "text/x-python",
   "name": "python",
   "nbconvert_exporter": "python",
   "pygments_lexer": "ipython3",
   "version": "3.11.3"
  }
 },
 "nbformat": 4,
 "nbformat_minor": 5
}
