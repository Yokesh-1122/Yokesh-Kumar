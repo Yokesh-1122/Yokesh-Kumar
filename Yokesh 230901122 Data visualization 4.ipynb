import seaborn as sns
import matplotlib.pyplot as plt
import pandas as pd
import numpy as np
import plotly.express as px
#seaborn package
Xpoints=np.array([0,20,120,200])
Ypoints=np.array([10,80,100,120,150,180,250])
print(sns.lineplot(data=Xpoints))
print(sns.lineplot(data=Ypoints))
print(plt.show())
Axes(0.125,0.11;0.775x0.77)
Axes(0.125,0.11;0.775x0.77)

None
print(sns.scatterplot(data=Ypoints))
print(plt.show())
     
Axes(0.125,0.11;0.775x0.77)

None
print(sns.barplot(data=Xpoints))
print(sns.barplot(data=Ypoints))
print(plt.show())
     
Axes(0.125,0.11;0.775x0.77)
Axes(0.125,0.11;0.775x0.77)

None
#3-D plot
x=np.array([1,2,6,8,12,14,20])
y=np.array([3,8,1,10,12,16,18])
fig=plt.figure(figsize=(12,8))
ax=plt.axes(projection='3d')
plt_3d=ax.scatter3D(x,y)
plt.colorbar(plt_3d)
plt.show()
#plotly package
X=np.array([10,80,100,120,150,180,250])
fig=px.scatter(x)
fig.show()

